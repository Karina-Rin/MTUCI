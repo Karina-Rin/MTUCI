{
 "cells": [
  {
   "cell_type": "markdown",
   "metadata": {},
   "source": [
    "### **Лабораторная работа 2**\n",
    "\n",
    "***\n",
    "__Алгоритм обучения методом положительного и отрицательного подкрепления__\n",
    "***"
   ]
  },
  {
   "cell_type": "code",
   "execution_count": 9,
   "metadata": {},
   "outputs": [],
   "source": [
    "# Импортирование необходимых модулей\n",
    "import numpy as np\n",
    "import tensorflow as tf"
   ]
  },
  {
   "cell_type": "code",
   "execution_count": 10,
   "metadata": {},
   "outputs": [],
   "source": [
    "# Загрузка и подготовка данных MNIST\n",
    "mnist = tf.keras.datasets.mnist\n",
    "(x_train, y_train), (x_test, y_test) = mnist.load_data()\n",
    "x_train = x_train / 255.0\n",
    "x_test = x_test / 255.0\n",
    "num_classes = 10\n",
    "y_train = np.eye(num_classes)[y_train]\n",
    "y_test = np.eye(num_classes)[y_test]\n",
    "x_train = x_train.reshape(x_train.shape[0], -1)\n",
    "x_test = x_test.reshape(x_test.shape[0], -1)"
   ]
  },
  {
   "cell_type": "code",
   "execution_count": 11,
   "metadata": {},
   "outputs": [],
   "source": [
    "class Perceptron:\n",
    "    \"\"\"\n",
    "    Инициализация персептрона с заданными размерами входа и выхода.\n",
    "    \n",
    "    Args:\n",
    "        input_dim (int): Размерность входных данных.\n",
    "        output_dim (int): Количество выходных нейронов.\n",
    "    \"\"\"\n",
    "    def __init__(self, input_dim, output_dim):\n",
    "        self.weights = np.random.rand(input_dim, output_dim) * 0.01\n",
    "        self.threshold = np.random.rand(output_dim) * 0.01\n",
    "\n",
    "    def forward(self, X):\n",
    "        \"\"\"Прямое распространение входного вектора через персептрон.\n",
    "        \n",
    "        Args:\n",
    "            X (numpy.ndarray): Входной вектор.\n",
    "        \n",
    "        Returns:\n",
    "            numpy.ndarray: Выходной вектор, состоящий из 0 и 1.\n",
    "        \"\"\"\n",
    "        net = np.dot(X, self.weights)\n",
    "        return (net >= self.threshold).astype(int)\n",
    "\n",
    "    def train(self, x_train, y_train, epochs):\n",
    "        \"\"\"Обучение персептрона на заданных данных.\n",
    "        \n",
    "        Args:\n",
    "            x_train (numpy.ndarray): Входные данные для обучения.\n",
    "            y_train (numpy.ndarray): Желаемые выходные данные.\n",
    "            epochs (int): Количество эпох для обучения.\n",
    "        \"\"\"\n",
    "        for epoch in range(epochs):\n",
    "            for i in range(x_train.shape[0]):\n",
    "                X = x_train[i:i + 1]\n",
    "                D = y_train[i:i + 1]\n",
    "                Y = self.forward(X)\n",
    "\n",
    "                \"\"\"Шаг 4а: Проверка выхода\"\"\"\n",
    "                for j in range(Y.shape[1]):\n",
    "                    if Y[0, j] != D[0, j]:  # Если выход неправильный\n",
    "                        if Y[0, j] == 0:  # Если выход 0\n",
    "                            \"\"\"Шаг 4б: Увеличение весов\"\"\"\n",
    "                            self.weights[:, j] += X.flatten()\n",
    "                        else:  # Если выход 1\n",
    "                            \"\"\"Шаг 4в: Уменьшение весов\"\"\"\n",
    "                            self.weights[:, j] -= X.flatten()\n",
    "\n",
    "    def evaluate(self, x_test, y_test):\n",
    "        \"\"\"Оценка точности персептрона на тестовых данных.\"\n",
    "        \n",
    "        Args:\n",
    "            x_test (numpy.ndarray): Входные данные для тестирования.\n",
    "            y_test (numpy.ndarray): Желаемые выходные данные для тестирования.\n",
    "        \n",
    "        Returns:\n",
    "            float: Точность модели на тестовых данных.\n",
    "        \"\"\"\n",
    "        predictions = self.forward(x_test)\n",
    "        return np.mean(np.argmax(predictions, axis=1) == np.argmax(y_test, axis=1))"
   ]
  },
  {
   "cell_type": "code",
   "execution_count": 12,
   "metadata": {},
   "outputs": [],
   "source": [
    "# Создание и обучение персептрона\n",
    "perceptron = Perceptron(input_dim=x_train.shape[1], output_dim=num_classes)\n",
    "perceptron.train(x_train, y_train, epochs=100)\n"
   ]
  },
  {
   "cell_type": "code",
   "execution_count": 13,
   "metadata": {},
   "outputs": [
    {
     "name": "stdout",
     "output_type": "stream",
     "text": [
      "Финальная точность: 0.7940\n"
     ]
    }
   ],
   "source": [
    "# Финальная оценка модели на тестовых данных\n",
    "final_accuracy = perceptron.evaluate(x_test, y_test)\n",
    "print(f'Финальная точность: {final_accuracy:.4f}')"
   ]
  }
 ],
 "metadata": {
  "kernelspec": {
   "display_name": "venv",
   "language": "python",
   "name": "python3"
  },
  "language_info": {
   "codemirror_mode": {
    "name": "ipython",
    "version": 3
   },
   "file_extension": ".py",
   "mimetype": "text/x-python",
   "name": "python",
   "nbconvert_exporter": "python",
   "pygments_lexer": "ipython3",
   "version": "3.11.0"
  }
 },
 "nbformat": 4,
 "nbformat_minor": 2
}
